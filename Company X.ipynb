{
 "cells": [
  {
   "cell_type": "markdown",
   "metadata": {},
   "source": [
    "# Company X"
   ]
  },
  {
   "cell_type": "markdown",
   "metadata": {},
   "source": [
    "I have been working from the perspective of a data analyst for a company, Company X, which has sales agents (represented by the Agents table), customers (represented by the Customers table), and orders (represented by the Orders table).\n",
    "\n",
    "Other tables were included with the sample data, but they had very few rows and didn't link with the rest of the data, so I chose to omit them from my analysis.\n",
    "\n",
    "Over the course of this analysis, I came to some conclusions:\n",
    "<ul>\n",
    "    <li>Total sales by each agent in the 2008 period recorded are not indicative of the commission rate received by each agent.  The best performing agents are sometimes receiving the lowest commission, and the lowest performing agents are sometimes receiving the highest commission.  An adjustment in commission rate policy may have potential to increase the overall sales for Company X.</li>\n",
    "    <li>Strongest sales took place in the months of July, August, and September. No sales above 7000 took place in any other month, and no sales are listed in November and December, 2008.</li>\n",
    "    <li>The geographic distribution of sales agents has disparities when compared with the geographic distribution of total sales.  The two highest sales regions, Chennai and Mumbai, each only have one sales agent, while Bangalore, which is in the middle of the pack in terms of total sales, has three agents.</li>\n",
    "</ul>\n",
    "\n",
    "Please find below the SQL queries and Python code used to come to these conclusions, as well as accompanying visualizations."
   ]
  },
  {
   "cell_type": "markdown",
   "metadata": {},
   "source": [
    "## Environment Setup"
   ]
  },
  {
   "cell_type": "code",
   "execution_count": 1,
   "metadata": {},
   "outputs": [
    {
     "name": "stdout",
     "output_type": "stream",
     "text": [
      "('KOHO',)\n",
      "('information_schema',)\n",
      "('koho',)\n",
      "('mysql',)\n",
      "('performance_schema',)\n",
      "('sample',)\n",
      "('test',)\n"
     ]
    }
   ],
   "source": [
    "# Set up connection between MySQL and Python\n",
    "import mysql.connector\n",
    "\n",
    "mydb = mysql.connector.connect(\n",
    "  host=\"localhost\",\n",
    "  user=\"root\",\n",
    "  passwd=\"\",\n",
    "  database='sample'\n",
    ")\n",
    "\n",
    "# Set up cursor object\n",
    "cur = mydb.cursor()\n",
    "\n",
    "# Test the connection\n",
    "cur.execute(\"SHOW DATABASES\")\n",
    "for x in cur:\n",
    "    print(x)"
   ]
  },
  {
   "cell_type": "code",
   "execution_count": 2,
   "metadata": {},
   "outputs": [
    {
     "name": "stdout",
     "output_type": "stream",
     "text": [
      "('A007', 'Ramasundar', 'Bangalore', Decimal('0.15'), '077-25814763', '\\r')\n",
      "('A003', 'Alex', 'London', Decimal('0.13'), '075-12458969', '\\r')\n",
      "('A008', 'Alford', 'New York', Decimal('0.12'), '044-25874365', '\\r')\n",
      "('A011', 'Ravi Kumar', 'Bangalore', Decimal('0.15'), '077-45625874', '\\r')\n",
      "('A010', 'Santakumar', 'Chennai', Decimal('0.14'), '007-22388644', '\\r')\n",
      "('A012', 'Lucida', 'San Jose', Decimal('0.12'), '044-52981425', '\\r')\n",
      "('A005', 'Anderson', 'Brisban', Decimal('0.13'), '045-21447739', '\\r')\n",
      "('A001', 'Subbarao', 'Bangalore', Decimal('0.14'), '077-12346674', '\\r')\n",
      "('A002', 'Mukesh', 'Mumbai', Decimal('0.11'), '029-12358964', '\\r')\n",
      "('A006', 'McDen', 'London', Decimal('0.15'), '078-22255588', '\\r')\n",
      "('A004', 'Ivan', 'Torento', Decimal('0.15'), '008-22544166', '\\r')\n",
      "('A009', 'Benjamin', 'Hampshair', Decimal('0.11'), '008-22536178', '\\r')\n"
     ]
    }
   ],
   "source": [
    "# Get an overview of agents table\n",
    "cur.execute(\"SELECT * FROM agents;\")\n",
    "result = cur.fetchall()\n",
    "for x in result:\n",
    "    print(x)"
   ]
  },
  {
   "cell_type": "markdown",
   "metadata": {},
   "source": [
    "## Sales and Commission by Agent"
   ]
  },
  {
   "cell_type": "code",
   "execution_count": 3,
   "metadata": {},
   "outputs": [
    {
     "name": "stdout",
     "output_type": "stream",
     "text": [
      "('Ramasundar', Decimal('0.15'))\n",
      "('Alex', Decimal('0.13'))\n",
      "('Alford', Decimal('0.12'))\n",
      "('Ravi Kumar', Decimal('0.15'))\n",
      "('Santakumar', Decimal('0.14'))\n",
      "('Lucida', Decimal('0.12'))\n",
      "('Anderson', Decimal('0.13'))\n",
      "('Subbarao', Decimal('0.14'))\n",
      "('Mukesh', Decimal('0.11'))\n",
      "('McDen', Decimal('0.15'))\n",
      "('Ivan', Decimal('0.15'))\n",
      "('Benjamin', Decimal('0.11'))\n"
     ]
    }
   ],
   "source": [
    "# Get set up to use python libraries for visualization and data manipulation\n",
    "import matplotlib.pyplot as plt\n",
    "import pandas as pd\n",
    "plt.style.use('fivethirtyeight')\n",
    "from pylab import *\n",
    "%matplotlib inline\n",
    "\n",
    "# Explore the commission rates of all sales agents\n",
    "cur.execute(\"SELECT AGENT_NAME, COMMISSION FROM agents;\")\n",
    "result = cur.fetchall()\n",
    "for x in result:\n",
    "    print(x)"
   ]
  },
  {
   "cell_type": "code",
   "execution_count": 4,
   "metadata": {},
   "outputs": [],
   "source": [
    "# Convert the results of the SQL query into a pandas dataframe\n",
    "commission = pd.DataFrame( [[ij for ij in i] for i in result] )\n",
    "\n",
    "# Convert the decimal datatype into float\n",
    "commission[1] = commission[1].astype('float')\n",
    "\n",
    "# Reorder the dataframe by commission rate, from highest to lowest\n",
    "commission = commission.sort_values(by=[1], ascending=False)"
   ]
  },
  {
   "cell_type": "code",
   "execution_count": 5,
   "metadata": {
    "scrolled": true
   },
   "outputs": [
    {
     "data": {
      "image/png": "[encoded data removed]",
      "text/plain": [
       "<Figure size 432x288 with 1 Axes>"
      ]
     },
     "metadata": {
      "needs_background": "light"
     },
     "output_type": "display_data"
    }
   ],
   "source": [
    "from numpy import arange\n",
    "\n",
    "# Create a bar graph of the agents' commision rates\n",
    "bar_heights = commission[1].values\n",
    "bar_positions = arange(12) + 0.75\n",
    "fig, ax = plt.subplots()\n",
    "ax.bar(bar_positions, bar_heights, 0.5, tick_label=commission[0], color=['mediumseagreen','orange','mediumturquoise', 'gold'])\n",
    "ax.set_xticklabels(labels=commission[0], rotation=65)\n",
    "ax.set_ylim(bottom=0.08)\n",
    "ax.grid(axis='x')\n",
    "plt.title('Commission Rates of Sales Agents')\n",
    "plt.xlabel('Agent Names')\n",
    "plt.ylabel('Commission Percentage')\n",
    "plt.show()"
   ]
  },
  {
   "cell_type": "code",
   "execution_count": 6,
   "metadata": {},
   "outputs": [
    {
     "name": "stdout",
     "output_type": "stream",
     "text": [
      "(Decimal('0.133333'),)\n"
     ]
    }
   ],
   "source": [
    "# Find the mean commission rate\n",
    "cur.execute(\"SELECT AVG(COMMISSION) FROM agents;\")\n",
    "result = cur.fetchall()\n",
    "for x in result:\n",
    "    print(x)"
   ]
  },
  {
   "cell_type": "markdown",
   "metadata": {},
   "source": [
    "The sales agents with the highest commission rate (15% - Ramasundar, Ravi Kumar, McDen, and Ivan) make an additional 35% on each sale compared to the commissions of the agents with the lowest rate (11% - Mukesh, Benjamin).  The mean commission earned is approximately 13.3%."
   ]
  },
  {
   "cell_type": "code",
   "execution_count": 7,
   "metadata": {},
   "outputs": [
    {
     "name": "stdout",
     "output_type": "stream",
     "text": [
      "('A001', 'Subbarao', Decimal('800.00'))\n",
      "('A002', 'Mukesh', Decimal('12700.00'))\n",
      "('A003', 'Alex', Decimal('3500.00'))\n",
      "('A004', 'Ivan', Decimal('9500.00'))\n",
      "('A005', 'Anderson', Decimal('7700.00'))\n",
      "('A006', 'McDen', Decimal('3000.00'))\n",
      "('A007', 'Ramasundar', Decimal('2500.00'))\n",
      "('A008', 'Alford', Decimal('7500.00'))\n",
      "('A009', 'Benjamin', Decimal('500.00'))\n",
      "('A010', 'Santakumar', Decimal('17000.00'))\n",
      "('A011', 'Ravi Kumar', Decimal('5000.00'))\n",
      "('A012', 'Lucida', Decimal('2900.00'))\n"
     ]
    }
   ],
   "source": [
    "# Join the orders table to the agents table on agent code, and view total sales amounts by agent\n",
    "sales_query = '''\n",
    "SELECT \n",
    "    o.AGENT_CODE, \n",
    "    a.AGENT_NAME, \n",
    "    SUM(o.ORD_AMOUNT) \n",
    "FROM orders o \n",
    "INNER JOIN agents a \n",
    "    ON o.AGENT_CODE = a.AGENT_CODE \n",
    "GROUP BY 1;\n",
    "'''\n",
    "cur.execute(sales_query)\n",
    "result = cur.fetchall()\n",
    "for x in result:\n",
    "    print(x)"
   ]
  },
  {
   "cell_type": "code",
   "execution_count": 8,
   "metadata": {},
   "outputs": [
    {
     "data": {
      "text/html": [
       "<div>\n",
       "<style scoped>\n",
       "    .dataframe tbody tr th:only-of-type {\n",
       "        vertical-align: middle;\n",
       "    }\n",
       "\n",
       "    .dataframe tbody tr th {\n",
       "        vertical-align: top;\n",
       "    }\n",
       "\n",
       "    .dataframe thead th {\n",
       "        text-align: right;\n",
       "    }\n",
       "</style>\n",
       "<table border=\"1\" class=\"dataframe\">\n",
       "  <thead>\n",
       "    <tr style=\"text-align: right;\">\n",
       "      <th></th>\n",
       "      <th>0</th>\n",
       "      <th>1</th>\n",
       "      <th>2</th>\n",
       "    </tr>\n",
       "  </thead>\n",
       "  <tbody>\n",
       "    <tr>\n",
       "      <th>9</th>\n",
       "      <td>A010</td>\n",
       "      <td>Santakumar</td>\n",
       "      <td>17000.0</td>\n",
       "    </tr>\n",
       "    <tr>\n",
       "      <th>1</th>\n",
       "      <td>A002</td>\n",
       "      <td>Mukesh</td>\n",
       "      <td>12700.0</td>\n",
       "    </tr>\n",
       "    <tr>\n",
       "      <th>3</th>\n",
       "      <td>A004</td>\n",
       "      <td>Ivan</td>\n",
       "      <td>9500.0</td>\n",
       "    </tr>\n",
       "    <tr>\n",
       "      <th>4</th>\n",
       "      <td>A005</td>\n",
       "      <td>Anderson</td>\n",
       "      <td>7700.0</td>\n",
       "    </tr>\n",
       "    <tr>\n",
       "      <th>7</th>\n",
       "      <td>A008</td>\n",
       "      <td>Alford</td>\n",
       "      <td>7500.0</td>\n",
       "    </tr>\n",
       "    <tr>\n",
       "      <th>10</th>\n",
       "      <td>A011</td>\n",
       "      <td>Ravi Kumar</td>\n",
       "      <td>5000.0</td>\n",
       "    </tr>\n",
       "    <tr>\n",
       "      <th>2</th>\n",
       "      <td>A003</td>\n",
       "      <td>Alex</td>\n",
       "      <td>3500.0</td>\n",
       "    </tr>\n",
       "    <tr>\n",
       "      <th>5</th>\n",
       "      <td>A006</td>\n",
       "      <td>McDen</td>\n",
       "      <td>3000.0</td>\n",
       "    </tr>\n",
       "    <tr>\n",
       "      <th>11</th>\n",
       "      <td>A012</td>\n",
       "      <td>Lucida</td>\n",
       "      <td>2900.0</td>\n",
       "    </tr>\n",
       "    <tr>\n",
       "      <th>6</th>\n",
       "      <td>A007</td>\n",
       "      <td>Ramasundar</td>\n",
       "      <td>2500.0</td>\n",
       "    </tr>\n",
       "    <tr>\n",
       "      <th>0</th>\n",
       "      <td>A001</td>\n",
       "      <td>Subbarao</td>\n",
       "      <td>800.0</td>\n",
       "    </tr>\n",
       "    <tr>\n",
       "      <th>8</th>\n",
       "      <td>A009</td>\n",
       "      <td>Benjamin</td>\n",
       "      <td>500.0</td>\n",
       "    </tr>\n",
       "  </tbody>\n",
       "</table>\n",
       "</div>"
      ],
      "text/plain": [
       "       0           1        2\n",
       "9   A010  Santakumar  17000.0\n",
       "1   A002      Mukesh  12700.0\n",
       "3   A004        Ivan   9500.0\n",
       "4   A005    Anderson   7700.0\n",
       "7   A008      Alford   7500.0\n",
       "10  A011  Ravi Kumar   5000.0\n",
       "2   A003        Alex   3500.0\n",
       "5   A006       McDen   3000.0\n",
       "11  A012      Lucida   2900.0\n",
       "6   A007  Ramasundar   2500.0\n",
       "0   A001    Subbarao    800.0\n",
       "8   A009    Benjamin    500.0"
      ]
     },
     "execution_count": 8,
     "metadata": {},
     "output_type": "execute_result"
    }
   ],
   "source": [
    "# Convert the results of the SQL query into a pandas dataframe\n",
    "total_sales = pd.DataFrame( [[ij for ij in i] for i in result] )\n",
    "\n",
    "# Convert the decimal datatype into float\n",
    "total_sales[2] = total_sales[2].astype('float')\n",
    "\n",
    "# Reorder the dataframe by sales, from highest to lowest\n",
    "total_sales = total_sales.sort_values(by=[2], ascending=False)\n",
    "\n",
    "total_sales"
   ]
  },
  {
   "cell_type": "code",
   "execution_count": 9,
   "metadata": {},
   "outputs": [
    {
     "data": {
      "image/png": "[encoded data removed]",
      "text/plain": [
       "<Figure size 432x288 with 1 Axes>"
      ]
     },
     "metadata": {
      "needs_background": "light"
     },
     "output_type": "display_data"
    }
   ],
   "source": [
    "# Create a bar graph of the agents' sales\n",
    "bar_heights = total_sales[2].values\n",
    "bar_positions = arange(12) + 0.75\n",
    "fig, ax = plt.subplots()\n",
    "ax.bar(bar_positions, bar_heights, 0.5, tick_label=total_sales[1], color=['mediumseagreen','orange','mediumturquoise', 'gold'])\n",
    "ax.set_xticklabels(labels=total_sales[1], rotation=65)\n",
    "ax.axhline(y=(mean(total_sales[2])), color='red', linewidth=0.5, linestyle='dashed')\n",
    "ax.text(10, 6500, 'Mean Sales')\n",
    "ax.grid(axis='x')\n",
    "plt.title('Total Sales by Agent')\n",
    "plt.xlabel('Agent Names')\n",
    "plt.ylabel('Total Sales')\n",
    "plt.show()"
   ]
  },
  {
   "cell_type": "markdown",
   "metadata": {},
   "source": [
    "As measured on pure sales, Santakumar was the clear winner.  They achieved 33% more sales than their next competitor, Mukesh.  When taking into account the differing commission rates, however, it is possible that the hierarchy of agents will look different."
   ]
  },
  {
   "cell_type": "code",
   "execution_count": 10,
   "metadata": {},
   "outputs": [
    {
     "name": "stdout",
     "output_type": "stream",
     "text": [
      "('A001', 'Subbarao', Decimal('112.0000'))\n",
      "('A002', 'Mukesh', Decimal('1397.0000'))\n",
      "('A003', 'Alex', Decimal('455.0000'))\n",
      "('A004', 'Ivan', Decimal('1425.0000'))\n",
      "('A005', 'Anderson', Decimal('1001.0000'))\n",
      "('A006', 'McDen', Decimal('450.0000'))\n",
      "('A007', 'Ramasundar', Decimal('375.0000'))\n",
      "('A008', 'Alford', Decimal('900.0000'))\n",
      "('A009', 'Benjamin', Decimal('55.0000'))\n",
      "('A010', 'Santakumar', Decimal('2380.0000'))\n",
      "('A011', 'Ravi Kumar', Decimal('750.0000'))\n",
      "('A012', 'Lucida', Decimal('348.0000'))\n"
     ]
    }
   ],
   "source": [
    "# View the total commissions earned by agent\n",
    "sales_query = '''\n",
    "SELECT \n",
    "    o.AGENT_CODE, \n",
    "    a.AGENT_NAME, \n",
    "    (a.COMMISSION * SUM(o.ORD_AMOUNT)) commission_earned\n",
    "FROM orders o \n",
    "INNER JOIN agents a \n",
    "    ON o.AGENT_CODE = a.AGENT_CODE \n",
    "GROUP BY 1;\n",
    "'''\n",
    "cur.execute(sales_query)\n",
    "result = cur.fetchall()\n",
    "for x in result:\n",
    "    print(x)"
   ]
  },
  {
   "cell_type": "code",
   "execution_count": 11,
   "metadata": {},
   "outputs": [
    {
     "data": {
      "text/html": [
       "<div>\n",
       "<style scoped>\n",
       "    .dataframe tbody tr th:only-of-type {\n",
       "        vertical-align: middle;\n",
       "    }\n",
       "\n",
       "    .dataframe tbody tr th {\n",
       "        vertical-align: top;\n",
       "    }\n",
       "\n",
       "    .dataframe thead th {\n",
       "        text-align: right;\n",
       "    }\n",
       "</style>\n",
       "<table border=\"1\" class=\"dataframe\">\n",
       "  <thead>\n",
       "    <tr style=\"text-align: right;\">\n",
       "      <th></th>\n",
       "      <th>0</th>\n",
       "      <th>1</th>\n",
       "      <th>2</th>\n",
       "    </tr>\n",
       "  </thead>\n",
       "  <tbody>\n",
       "    <tr>\n",
       "      <th>9</th>\n",
       "      <td>A010</td>\n",
       "      <td>Santakumar</td>\n",
       "      <td>2380.0</td>\n",
       "    </tr>\n",
       "    <tr>\n",
       "      <th>3</th>\n",
       "      <td>A004</td>\n",
       "      <td>Ivan</td>\n",
       "      <td>1425.0</td>\n",
       "    </tr>\n",
       "    <tr>\n",
       "      <th>1</th>\n",
       "      <td>A002</td>\n",
       "      <td>Mukesh</td>\n",
       "      <td>1397.0</td>\n",
       "    </tr>\n",
       "    <tr>\n",
       "      <th>4</th>\n",
       "      <td>A005</td>\n",
       "      <td>Anderson</td>\n",
       "      <td>1001.0</td>\n",
       "    </tr>\n",
       "    <tr>\n",
       "      <th>7</th>\n",
       "      <td>A008</td>\n",
       "      <td>Alford</td>\n",
       "      <td>900.0</td>\n",
       "    </tr>\n",
       "    <tr>\n",
       "      <th>10</th>\n",
       "      <td>A011</td>\n",
       "      <td>Ravi Kumar</td>\n",
       "      <td>750.0</td>\n",
       "    </tr>\n",
       "    <tr>\n",
       "      <th>2</th>\n",
       "      <td>A003</td>\n",
       "      <td>Alex</td>\n",
       "      <td>455.0</td>\n",
       "    </tr>\n",
       "    <tr>\n",
       "      <th>5</th>\n",
       "      <td>A006</td>\n",
       "      <td>McDen</td>\n",
       "      <td>450.0</td>\n",
       "    </tr>\n",
       "    <tr>\n",
       "      <th>6</th>\n",
       "      <td>A007</td>\n",
       "      <td>Ramasundar</td>\n",
       "      <td>375.0</td>\n",
       "    </tr>\n",
       "    <tr>\n",
       "      <th>11</th>\n",
       "      <td>A012</td>\n",
       "      <td>Lucida</td>\n",
       "      <td>348.0</td>\n",
       "    </tr>\n",
       "    <tr>\n",
       "      <th>0</th>\n",
       "      <td>A001</td>\n",
       "      <td>Subbarao</td>\n",
       "      <td>112.0</td>\n",
       "    </tr>\n",
       "    <tr>\n",
       "      <th>8</th>\n",
       "      <td>A009</td>\n",
       "      <td>Benjamin</td>\n",
       "      <td>55.0</td>\n",
       "    </tr>\n",
       "  </tbody>\n",
       "</table>\n",
       "</div>"
      ],
      "text/plain": [
       "       0           1       2\n",
       "9   A010  Santakumar  2380.0\n",
       "3   A004        Ivan  1425.0\n",
       "1   A002      Mukesh  1397.0\n",
       "4   A005    Anderson  1001.0\n",
       "7   A008      Alford   900.0\n",
       "10  A011  Ravi Kumar   750.0\n",
       "2   A003        Alex   455.0\n",
       "5   A006       McDen   450.0\n",
       "6   A007  Ramasundar   375.0\n",
       "11  A012      Lucida   348.0\n",
       "0   A001    Subbarao   112.0\n",
       "8   A009    Benjamin    55.0"
      ]
     },
     "execution_count": 11,
     "metadata": {},
     "output_type": "execute_result"
    }
   ],
   "source": [
    "# Convert the results of the SQL query into a pandas dataframe\n",
    "total_earnings = pd.DataFrame( [[ij for ij in i] for i in result] )\n",
    "\n",
    "# Convert the decimal datatype into float\n",
    "total_earnings[2] = total_earnings[2].astype('float')\n",
    "\n",
    "# Reorder the dataframe by sales, from highest to lowest\n",
    "total_earnings = total_earnings.sort_values(by=[2], ascending=False)\n",
    "\n",
    "total_earnings"
   ]
  },
  {
   "cell_type": "code",
   "execution_count": 12,
   "metadata": {},
   "outputs": [
    {
     "data": {
      "image/png": "[encoded data removed]",
      "text/plain": [
       "<Figure size 432x288 with 1 Axes>"
      ]
     },
     "metadata": {
      "needs_background": "light"
     },
     "output_type": "display_data"
    }
   ],
   "source": [
    "# Create a bar graph of the agents' earnings from commissions\n",
    "bar_heights = total_earnings[2].values\n",
    "bar_positions = arange(12) + 0.75\n",
    "fig, ax = plt.subplots()\n",
    "ax.bar(bar_positions, bar_heights, 0.5, tick_label=total_sales[1], color=['mediumseagreen','orange','mediumturquoise', 'gold'])\n",
    "ax.set_xticklabels(labels=total_earnings[1], rotation=65)\n",
    "ax.axhline(y=(mean(total_earnings[2])), color='red', linewidth=0.5, linestyle='dashed')\n",
    "ax.text(10, 850, 'Mean Earnings')\n",
    "ax.grid(axis='x')\n",
    "plt.title('Total Commissions Earnings by Agent')\n",
    "plt.xlabel('Agent Names')\n",
    "plt.ylabel('Total Earnings')\n",
    "plt.show()"
   ]
  },
  {
   "cell_type": "markdown",
   "metadata": {},
   "source": [
    "The top 5 agents as measured by commissions earned are the same as the top 5 when measured by total sales.  The biggest difference between the two metrics is that Ivan's total sales were lower than Mukesh's by 3200, but he made about 30 more in commissions than Mukhesh because his commission rate (15%) is higher than Mukesh's commission rate (11%)."
   ]
  },
  {
   "cell_type": "code",
   "execution_count": 13,
   "metadata": {},
   "outputs": [
    {
     "name": "stdout",
     "output_type": "stream",
     "text": [
      "('A010', 'Santakumar', Decimal('17000.00'), Decimal('0.14'))\n",
      "('A002', 'Mukesh', Decimal('12700.00'), Decimal('0.11'))\n",
      "('A004', 'Ivan', Decimal('9500.00'), Decimal('0.15'))\n",
      "('A005', 'Anderson', Decimal('7700.00'), Decimal('0.13'))\n",
      "('A008', 'Alford', Decimal('7500.00'), Decimal('0.12'))\n",
      "('A011', 'Ravi Kumar', Decimal('5000.00'), Decimal('0.15'))\n",
      "('A003', 'Alex', Decimal('3500.00'), Decimal('0.13'))\n",
      "('A006', 'McDen', Decimal('3000.00'), Decimal('0.15'))\n",
      "('A012', 'Lucida', Decimal('2900.00'), Decimal('0.12'))\n",
      "('A007', 'Ramasundar', Decimal('2500.00'), Decimal('0.15'))\n",
      "('A001', 'Subbarao', Decimal('800.00'), Decimal('0.14'))\n",
      "('A009', 'Benjamin', Decimal('500.00'), Decimal('0.11'))\n"
     ]
    }
   ],
   "source": [
    "# View the total sales by agent compared to the agent's commission rate, ordered by sales from highest to lowest\n",
    "sales_commission_query = '''\n",
    "SELECT \n",
    "    o.AGENT_CODE, \n",
    "    a.AGENT_NAME,  \n",
    "    SUM(o.ORD_AMOUNT),\n",
    "    a.COMMISSION\n",
    "FROM orders o \n",
    "INNER JOIN agents a \n",
    "    ON o.AGENT_CODE = a.AGENT_CODE \n",
    "GROUP BY 1\n",
    "ORDER BY 3 DESC;\n",
    "'''\n",
    "cur.execute(sales_commission_query)\n",
    "result = cur.fetchall()\n",
    "for x in result:\n",
    "    print(x)"
   ]
  },
  {
   "cell_type": "markdown",
   "metadata": {},
   "source": [
    "A direct comparison of the total sales of each agent versus their commissions rate shows that there is no real relationship between the commission rate and the volume of sales for each agent.  The second highest performer is set at the lowest commission percentage, while two of the bottom three performers in terms of sales are receiving top commission rates.  It is unclear how the commission rates are being set.  It is possible that agents are being rewarded for seniority and company loyalty with increased commission rates.\n",
    "\n",
    "If the company wants to create additional sales incentive, they could move to a system where higher performance was rewarded with higher commission rates.  An example of this would be a graduated commission system, where total sales above certain thresholds in a certain timeframe would result in higher commission rates."
   ]
  },
  {
   "cell_type": "markdown",
   "metadata": {},
   "source": [
    "## 2008 Sales by Month"
   ]
  },
  {
   "cell_type": "code",
   "execution_count": 14,
   "metadata": {},
   "outputs": [
    {
     "name": "stdout",
     "output_type": "stream",
     "text": [
      "(Decimal('1000.00'), 1)\n",
      "(Decimal('6000.00'), 2)\n",
      "(Decimal('1500.00'), 3)\n",
      "(Decimal('5500.00'), 4)\n",
      "(Decimal('5500.00'), 5)\n",
      "(Decimal('6200.00'), 6)\n",
      "(Decimal('22500.00'), 7)\n",
      "(Decimal('12900.00'), 8)\n",
      "(Decimal('14700.00'), 9)\n",
      "(Decimal('2800.00'), 10)\n"
     ]
    }
   ],
   "source": [
    "# Display the total sales for Company X by month\n",
    "order_date_query = '''\n",
    "SELECT \n",
    "    SUM(ORD_AMOUNT),\n",
    "    EXTRACT(MONTH FROM ORD_DATE)\n",
    "FROM orders\n",
    "GROUP BY 2; \n",
    "'''\n",
    "cur.execute(order_date_query)\n",
    "result = cur.fetchall()\n",
    "for x in result:\n",
    "    print(x)"
   ]
  },
  {
   "cell_type": "code",
   "execution_count": 15,
   "metadata": {},
   "outputs": [
    {
     "data": {
      "text/html": [
       "<div>\n",
       "<style scoped>\n",
       "    .dataframe tbody tr th:only-of-type {\n",
       "        vertical-align: middle;\n",
       "    }\n",
       "\n",
       "    .dataframe tbody tr th {\n",
       "        vertical-align: top;\n",
       "    }\n",
       "\n",
       "    .dataframe thead th {\n",
       "        text-align: right;\n",
       "    }\n",
       "</style>\n",
       "<table border=\"1\" class=\"dataframe\">\n",
       "  <thead>\n",
       "    <tr style=\"text-align: right;\">\n",
       "      <th></th>\n",
       "      <th>0</th>\n",
       "      <th>1</th>\n",
       "    </tr>\n",
       "  </thead>\n",
       "  <tbody>\n",
       "    <tr>\n",
       "      <th>0</th>\n",
       "      <td>1000.0</td>\n",
       "      <td>1</td>\n",
       "    </tr>\n",
       "    <tr>\n",
       "      <th>1</th>\n",
       "      <td>6000.0</td>\n",
       "      <td>2</td>\n",
       "    </tr>\n",
       "    <tr>\n",
       "      <th>2</th>\n",
       "      <td>1500.0</td>\n",
       "      <td>3</td>\n",
       "    </tr>\n",
       "    <tr>\n",
       "      <th>3</th>\n",
       "      <td>5500.0</td>\n",
       "      <td>4</td>\n",
       "    </tr>\n",
       "    <tr>\n",
       "      <th>4</th>\n",
       "      <td>5500.0</td>\n",
       "      <td>5</td>\n",
       "    </tr>\n",
       "    <tr>\n",
       "      <th>5</th>\n",
       "      <td>6200.0</td>\n",
       "      <td>6</td>\n",
       "    </tr>\n",
       "    <tr>\n",
       "      <th>6</th>\n",
       "      <td>22500.0</td>\n",
       "      <td>7</td>\n",
       "    </tr>\n",
       "    <tr>\n",
       "      <th>7</th>\n",
       "      <td>12900.0</td>\n",
       "      <td>8</td>\n",
       "    </tr>\n",
       "    <tr>\n",
       "      <th>8</th>\n",
       "      <td>14700.0</td>\n",
       "      <td>9</td>\n",
       "    </tr>\n",
       "    <tr>\n",
       "      <th>9</th>\n",
       "      <td>2800.0</td>\n",
       "      <td>10</td>\n",
       "    </tr>\n",
       "  </tbody>\n",
       "</table>\n",
       "</div>"
      ],
      "text/plain": [
       "         0   1\n",
       "0   1000.0   1\n",
       "1   6000.0   2\n",
       "2   1500.0   3\n",
       "3   5500.0   4\n",
       "4   5500.0   5\n",
       "5   6200.0   6\n",
       "6  22500.0   7\n",
       "7  12900.0   8\n",
       "8  14700.0   9\n",
       "9   2800.0  10"
      ]
     },
     "execution_count": 15,
     "metadata": {},
     "output_type": "execute_result"
    }
   ],
   "source": [
    "# Convert the results of the SQL query into a pandas dataframe\n",
    "orders_by_month = pd.DataFrame( [[ij for ij in i] for i in result] )\n",
    "\n",
    "# Convert the datatype into float\n",
    "orders_by_month[0] = orders_by_month[0].astype('float')\n",
    "\n",
    "# Sort the orders by date\n",
    "orders_by_month = orders_by_month.sort_values(by=[1])\n",
    "\n",
    "# Display a sample of the dataframe\n",
    "orders_by_month"
   ]
  },
  {
   "cell_type": "code",
   "execution_count": 16,
   "metadata": {},
   "outputs": [
    {
     "data": {
      "image/png": "[encoded data removed]",
      "text/plain": [
       "<Figure size 432x288 with 1 Axes>"
      ]
     },
     "metadata": {
      "needs_background": "light"
     },
     "output_type": "display_data"
    }
   ],
   "source": [
    "# Create a scatterplot of sales over time\n",
    "months = ['Feb', 'Apr', 'Jun', 'Aug', 'Oct']\n",
    "ticks = np.arange(2,12,2)\n",
    "\n",
    "fig, ax = plt.subplots()\n",
    "plt.plot(orders_by_month[1], orders_by_month[0])\n",
    "plt.title('Monthly Sales in 2008')\n",
    "plt.xlabel('Month, 2008')\n",
    "plt.ylabel('Sales per Month')\n",
    "plt.xticks(ticks, months)\n",
    "plt.show()"
   ]
  },
  {
   "cell_type": "markdown",
   "metadata": {},
   "source": [
    "For this business, the strongest sales months seem to be in the months of July, August, and September.  No sales data exists for November or December of 2008 in this dataset.  It's possible that this data was extracted before the end of Q4 of 2008, or that no sales took place during these months."
   ]
  },
  {
   "cell_type": "markdown",
   "metadata": {},
   "source": [
    "## Sales Agents and Sales by Geographic Area"
   ]
  },
  {
   "cell_type": "code",
   "execution_count": 17,
   "metadata": {},
   "outputs": [
    {
     "name": "stdout",
     "output_type": "stream",
     "text": [
      "('Bangalore', 3)\n",
      "('London', 2)\n",
      "('Mumbai', 1)\n",
      "('Torento', 1)\n",
      "('New York', 1)\n",
      "('Hampshair', 1)\n",
      "('Chennai', 1)\n",
      "('San Jose', 1)\n",
      "('Brisban', 1)\n"
     ]
    }
   ],
   "source": [
    "# Display the number of sales agents per working_area\n",
    "agent_area_query = '''\n",
    "SELECT \n",
    "    WORKING_AREA,\n",
    "    COUNT(WORKING_AREA)\n",
    "FROM agents\n",
    "GROUP BY 1\n",
    "ORDER BY 2 DESC;\n",
    "'''\n",
    "cur.execute(agent_area_query)\n",
    "result = cur.fetchall()\n",
    "for x in result:\n",
    "    print(x)"
   ]
  },
  {
   "cell_type": "code",
   "execution_count": 18,
   "metadata": {},
   "outputs": [
    {
     "data": {
      "text/html": [
       "<div>\n",
       "<style scoped>\n",
       "    .dataframe tbody tr th:only-of-type {\n",
       "        vertical-align: middle;\n",
       "    }\n",
       "\n",
       "    .dataframe tbody tr th {\n",
       "        vertical-align: top;\n",
       "    }\n",
       "\n",
       "    .dataframe thead th {\n",
       "        text-align: right;\n",
       "    }\n",
       "</style>\n",
       "<table border=\"1\" class=\"dataframe\">\n",
       "  <thead>\n",
       "    <tr style=\"text-align: right;\">\n",
       "      <th></th>\n",
       "      <th>0</th>\n",
       "      <th>1</th>\n",
       "    </tr>\n",
       "  </thead>\n",
       "  <tbody>\n",
       "    <tr>\n",
       "      <th>0</th>\n",
       "      <td>Bangalore</td>\n",
       "      <td>3</td>\n",
       "    </tr>\n",
       "    <tr>\n",
       "      <th>1</th>\n",
       "      <td>London</td>\n",
       "      <td>2</td>\n",
       "    </tr>\n",
       "    <tr>\n",
       "      <th>2</th>\n",
       "      <td>Mumbai</td>\n",
       "      <td>1</td>\n",
       "    </tr>\n",
       "    <tr>\n",
       "      <th>3</th>\n",
       "      <td>Torento</td>\n",
       "      <td>1</td>\n",
       "    </tr>\n",
       "    <tr>\n",
       "      <th>4</th>\n",
       "      <td>New York</td>\n",
       "      <td>1</td>\n",
       "    </tr>\n",
       "    <tr>\n",
       "      <th>5</th>\n",
       "      <td>Hampshair</td>\n",
       "      <td>1</td>\n",
       "    </tr>\n",
       "    <tr>\n",
       "      <th>6</th>\n",
       "      <td>Chennai</td>\n",
       "      <td>1</td>\n",
       "    </tr>\n",
       "    <tr>\n",
       "      <th>7</th>\n",
       "      <td>San Jose</td>\n",
       "      <td>1</td>\n",
       "    </tr>\n",
       "    <tr>\n",
       "      <th>8</th>\n",
       "      <td>Brisban</td>\n",
       "      <td>1</td>\n",
       "    </tr>\n",
       "  </tbody>\n",
       "</table>\n",
       "</div>"
      ],
      "text/plain": [
       "           0  1\n",
       "0  Bangalore  3\n",
       "1     London  2\n",
       "2     Mumbai  1\n",
       "3    Torento  1\n",
       "4   New York  1\n",
       "5  Hampshair  1\n",
       "6    Chennai  1\n",
       "7   San Jose  1\n",
       "8    Brisban  1"
      ]
     },
     "execution_count": 18,
     "metadata": {},
     "output_type": "execute_result"
    }
   ],
   "source": [
    "# Convert the results of the SQL query into a pandas dataframe\n",
    "agents_by_area = pd.DataFrame( [[ij for ij in i] for i in result] )\n",
    "\n",
    "# Display dataframe\n",
    "agents_by_area"
   ]
  },
  {
   "cell_type": "code",
   "execution_count": 19,
   "metadata": {},
   "outputs": [
    {
     "name": "stdout",
     "output_type": "stream",
     "text": [
      "('Chennai', Decimal('17000.00'))\n",
      "('Mumbai', Decimal('12700.00'))\n",
      "('London', Decimal('12500.00'))\n",
      "('Torento', Decimal('9500.00'))\n",
      "('Bangalore', Decimal('8300.00'))\n",
      "('Brisban', Decimal('7700.00'))\n",
      "('New York', Decimal('7500.00'))\n",
      "('San Jose', Decimal('2900.00'))\n",
      "('Hampshair', Decimal('500.00'))\n"
     ]
    }
   ],
   "source": [
    "# Display total sales per working_area\n",
    "cust_area_query = '''\n",
    "SELECT \n",
    "    c.WORKING_AREA,\n",
    "    SUM(o.ORD_AMOUNT)\n",
    "FROM customer c\n",
    "INNER JOIN orders o\n",
    "    ON c.CUST_CODE = o.CUST_CODE\n",
    "GROUP BY 1\n",
    "ORDER BY 2 DESC;\n",
    "'''\n",
    "cur.execute(cust_area_query)\n",
    "result = cur.fetchall()\n",
    "for x in result:\n",
    "    print(x)"
   ]
  },
  {
   "cell_type": "code",
   "execution_count": 20,
   "metadata": {},
   "outputs": [
    {
     "data": {
      "text/html": [
       "<div>\n",
       "<style scoped>\n",
       "    .dataframe tbody tr th:only-of-type {\n",
       "        vertical-align: middle;\n",
       "    }\n",
       "\n",
       "    .dataframe tbody tr th {\n",
       "        vertical-align: top;\n",
       "    }\n",
       "\n",
       "    .dataframe thead th {\n",
       "        text-align: right;\n",
       "    }\n",
       "</style>\n",
       "<table border=\"1\" class=\"dataframe\">\n",
       "  <thead>\n",
       "    <tr style=\"text-align: right;\">\n",
       "      <th></th>\n",
       "      <th>0</th>\n",
       "      <th>1</th>\n",
       "    </tr>\n",
       "  </thead>\n",
       "  <tbody>\n",
       "    <tr>\n",
       "      <th>0</th>\n",
       "      <td>Chennai</td>\n",
       "      <td>17000.00</td>\n",
       "    </tr>\n",
       "    <tr>\n",
       "      <th>1</th>\n",
       "      <td>Mumbai</td>\n",
       "      <td>12700.00</td>\n",
       "    </tr>\n",
       "    <tr>\n",
       "      <th>2</th>\n",
       "      <td>London</td>\n",
       "      <td>12500.00</td>\n",
       "    </tr>\n",
       "    <tr>\n",
       "      <th>3</th>\n",
       "      <td>Torento</td>\n",
       "      <td>9500.00</td>\n",
       "    </tr>\n",
       "    <tr>\n",
       "      <th>4</th>\n",
       "      <td>Bangalore</td>\n",
       "      <td>8300.00</td>\n",
       "    </tr>\n",
       "    <tr>\n",
       "      <th>5</th>\n",
       "      <td>Brisban</td>\n",
       "      <td>7700.00</td>\n",
       "    </tr>\n",
       "    <tr>\n",
       "      <th>6</th>\n",
       "      <td>New York</td>\n",
       "      <td>7500.00</td>\n",
       "    </tr>\n",
       "    <tr>\n",
       "      <th>7</th>\n",
       "      <td>San Jose</td>\n",
       "      <td>2900.00</td>\n",
       "    </tr>\n",
       "    <tr>\n",
       "      <th>8</th>\n",
       "      <td>Hampshair</td>\n",
       "      <td>500.00</td>\n",
       "    </tr>\n",
       "  </tbody>\n",
       "</table>\n",
       "</div>"
      ],
      "text/plain": [
       "           0         1\n",
       "0    Chennai  17000.00\n",
       "1     Mumbai  12700.00\n",
       "2     London  12500.00\n",
       "3    Torento   9500.00\n",
       "4  Bangalore   8300.00\n",
       "5    Brisban   7700.00\n",
       "6   New York   7500.00\n",
       "7   San Jose   2900.00\n",
       "8  Hampshair    500.00"
      ]
     },
     "execution_count": 20,
     "metadata": {},
     "output_type": "execute_result"
    }
   ],
   "source": [
    "# Convert the results of the SQL query into a pandas dataframe\n",
    "cust_by_area = pd.DataFrame( [[ij for ij in i] for i in result] )\n",
    "\n",
    "# Display dataframe\n",
    "cust_by_area"
   ]
  },
  {
   "cell_type": "code",
   "execution_count": 21,
   "metadata": {},
   "outputs": [
    {
     "data": {
      "image/png": "[encoded data removed]",
      "text/plain": [
       "<Figure size 432x288 with 1 Axes>"
      ]
     },
     "metadata": {},
     "output_type": "display_data"
    },
    {
     "data": {
      "image/png": "[encoded data removed]",
      "text/plain": [
       "<Figure size 432x288 with 1 Axes>"
      ]
     },
     "metadata": {},
     "output_type": "display_data"
    }
   ],
   "source": [
    "# Create a pie chart of agent working locations\n",
    "fig, ax = plt.subplots()\n",
    "plt.subplot(1,2,1)\n",
    "plt.pie(cust_by_area[1], labels=cust_by_area[0], shadow=True, colors=['mediumseagreen','orange','mediumturquoise', 'gold', 'palegreen', 'khaki', 'peru', 'olivedrab', 'skyblue'])\n",
    "plt.title('Customer Sales by Working Area', fontsize=16)\n",
    "plt.axis('equal')\n",
    "plt.show()\n",
    "\n",
    "# Create a pie chart of agent working locations\n",
    "plt.subplot(1,2,2)\n",
    "plt.pie(agents_by_area[1], labels=agents_by_area[0], shadow=True, colors=['mediumseagreen','orange','mediumturquoise', 'gold', 'palegreen', 'khaki', 'peru', 'olivedrab', 'skyblue'])\n",
    "plt.title('Agent Working Areas', fontsize=16)\n",
    "plt.axis('equal')\n",
    "plt.show()"
   ]
  },
  {
   "cell_type": "markdown",
   "metadata": {},
   "source": [
    "The distribution of sales agents and of actual sales seems to have geographic disparities, when visualized with pie charts.  Chennai's customers contribute to the most sales, but only one staff member represents the region.  Mumbai's customers have the second highest sales volumes, but also have only one sales agent.\n",
    "\n",
    "Conversely, Bangalore area has three sales agents, but less than half the sales volume of Chennai, which only has one agent.\n",
    "\n",
    "If the company wants to improve sales, it could consider restructuring its sales agents geographic responsibilities to better reflect the realities of business volume."
   ]
  },
  {
   "cell_type": "markdown",
   "metadata": {},
   "source": [
    "## Conclusion"
   ]
  },
  {
   "cell_type": "markdown",
   "metadata": {},
   "source": [
    "Here are possible courses of action for Company X to consider as a result of this analysis:\n",
    "\n",
    "<ol>\n",
    "    <li><b>Commission - </b>Consider adjustments to commission rates for sales agents, in order to incentivize higher employee performance and reward current high performers.</li>\n",
    "    <li><b>Monthly Sales - </b>Consider diversifying product offerings to increase revenue outside of the July-September busy period.</li>\n",
    "    <li><b>Working Areas - </b>Consider redistributing total sales staff to better reflect increased business opportunities in current high-performing areas of Chennai and Mumbai.</li>\n",
    "</ol>\n",
    "\n",
    "\n"
   ]
  }
 ],
 "metadata": {
  "kernelspec": {
   "display_name": "Python 3",
   "language": "python",
   "name": "python3"
  },
  "language_info": {
   "codemirror_mode": {
    "name": "ipython",
    "version": 3
   },
   "file_extension": ".py",
   "mimetype": "text/x-python",
   "name": "python",
   "nbconvert_exporter": "python",
   "pygments_lexer": "ipython3",
   "version": "3.7.0"
  }
 },
 "nbformat": 4,
 "nbformat_minor": 2
}
